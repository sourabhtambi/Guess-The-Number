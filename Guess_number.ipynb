{
  "nbformat": 4,
  "nbformat_minor": 0,
  "metadata": {
    "colab": {
      "provenance": []
    },
    "kernelspec": {
      "name": "python3",
      "display_name": "Python 3"
    },
    "language_info": {
      "name": "python"
    }
  },
  "cells": [
    {
      "cell_type": "code",
      "execution_count": null,
      "metadata": {
        "id": "750tgcBNNNYf"
      },
      "outputs": [],
      "source": [
        "\n",
        "\n"
      ]
    },
    {
      "cell_type": "code",
      "source": [
        "import random\n",
        "jackpot = random.randint(1,100)\n",
        "print(\"Welcome to the game\")\n",
        "guess = int(input(\"Guess your number\"))\n",
        "b = 1\n",
        "while guess != jackpot:\n",
        "    if guess < jackpot:\n",
        "        print(\"Guess higher\")\n",
        "    else:\n",
        "        print(\"Guess lower\")\n",
        "    guess = int(input(\"Guess your number\"))\n",
        "    b+=1\n",
        "else:\n",
        "    print(\"Correct guess\")\n",
        "\n",
        "print(\"you took\",b,\"attempts\")"
      ],
      "metadata": {
        "colab": {
          "base_uri": "https://localhost:8080/"
        },
        "id": "431rB3kSL_b2",
        "outputId": "97ca0c65-3909-47db-d3a4-1a77325c6cbe"
      },
      "execution_count": 1,
      "outputs": [
        {
          "output_type": "stream",
          "name": "stdout",
          "text": [
            "Welcome to the game\n",
            "Guess your number10\n",
            "Guess higher\n",
            "Guess your number70\n",
            "Guess higher\n",
            "Guess your number90\n",
            "Guess higher\n",
            "Guess your number95\n",
            "Guess lower\n",
            "Guess your number94\n",
            "Guess lower\n",
            "Guess your number93\n",
            "Guess lower\n",
            "Guess your number92\n",
            "Guess lower\n",
            "Guess your number91\n",
            "Correct guess\n",
            "you took 8 attempts\n"
          ]
        }
      ]
    },
    {
      "cell_type": "code",
      "source": [],
      "metadata": {
        "id": "-WODXFnTJf4K"
      },
      "execution_count": null,
      "outputs": []
    },
    {
      "cell_type": "code",
      "source": [],
      "metadata": {
        "id": "EONcvK-cJOHd"
      },
      "execution_count": null,
      "outputs": []
    }
  ]
}